{
 "cells": [
  {
   "cell_type": "code",
   "execution_count": 1,
   "id": "helpful-extreme",
   "metadata": {},
   "outputs": [
    {
     "name": "stdout",
     "output_type": "stream",
     "text": [
      "This is the first block\n"
     ]
    }
   ],
   "source": [
    "print('This is the first block')"
   ]
  },
  {
   "cell_type": "code",
   "execution_count": 2,
   "id": "south-rider",
   "metadata": {},
   "outputs": [
    {
     "name": "stdout",
     "output_type": "stream",
     "text": [
      "This is the second block\n"
     ]
    }
   ],
   "source": [
    "print('This is the second block')"
   ]
  },
  {
   "cell_type": "code",
   "execution_count": null,
   "id": "adaptive-landscape",
   "metadata": {},
   "outputs": [],
   "source": []
  }
 ],
 "metadata": {
  "kernelspec": {
   "display_name": "Python 3",
   "language": "python",
   "name": "python3"
  },
  "language_info": {
   "codemirror_mode": {
    "name": "ipython",
    "version": 3
   },
   "file_extension": ".py",
   "mimetype": "text/x-python",
   "name": "python",
   "nbconvert_exporter": "python",
   "pygments_lexer": "ipython3",
   "version": "3.7.9"
  }
 },
 "nbformat": 4,
 "nbformat_minor": 5
}
